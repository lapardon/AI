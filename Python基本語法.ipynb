{
 "cells": [
  {
   "cell_type": "code",
   "execution_count": 14,
   "metadata": {},
   "outputs": [
    {
     "name": "stdout",
     "output_type": "stream",
     "text": [
      "13.1\n",
      "Hellow World\n",
      "[1, 2, 3, 4, 5, 6]\n",
      "45\n"
     ]
    }
   ],
   "source": [
    "# ←此為Python的註解符號，在這之後的文字不會被當作程式碼執行\n",
    "# Python不用宣告變數型態，在指定變數的值時即會動態決定其型態\n",
    "a=True            # 布林\n",
    "b=10              # 整數\n",
    "c=3.1             # 浮點數\n",
    "d=\"HI\"            # 字串\n",
    "e=\"Hellow World\"\n",
    "f=[1,2,3,4,5,6]   #陣列\n",
    "Sum=0\n",
    "d,e = e,d         # Python能直接將兩個值作交換\n",
    "if a:             # 條件判斷 if  # ':' 下一行要有空格\n",
    "    print(b+c)\n",
    "    print(d)\n",
    "for i in range(0,10) :  #for 迴圈\n",
    "    Sum+=i\n",
    "print(f)\n",
    "print(Sum)  "
   ]
  },
  {
   "cell_type": "code",
   "execution_count": 5,
   "metadata": {},
   "outputs": [
    {
     "name": "stdout",
     "output_type": "stream",
     "text": [
      "<type 'int'>\n",
      "<type 'str'>\n",
      "<type 'float'>\n",
      "<type 'bool'>\n"
     ]
    }
   ],
   "source": [
    "#變數能隨時變更為任意型態\n",
    "x=10\n",
    "print(type(x))\n",
    "x=\"strrr\"\n",
    "print(type(x))\n",
    "x=10.0\n",
    "print(type(x))\n",
    "x=True\n",
    "print(type(x))"
   ]
  },
  {
   "cell_type": "code",
   "execution_count": 8,
   "metadata": {},
   "outputs": [
    {
     "name": "stdout",
     "output_type": "stream",
     "text": [
      "0.1\n"
     ]
    }
   ],
   "source": [
    "# 不宣告形態的用法存在誤差   例如 ：浮點數 float \n",
    "x = 1.1\n",
    "y = 1.0\n",
    "print(x-y)"
   ]
  },
  {
   "cell_type": "code",
   "execution_count": null,
   "metadata": {},
   "outputs": [],
   "source": []
  },
  {
   "cell_type": "code",
   "execution_count": null,
   "metadata": {},
   "outputs": [],
   "source": []
  }
 ],
 "metadata": {
  "kernelspec": {
   "display_name": "Python 2",
   "language": "python",
   "name": "python2"
  },
  "language_info": {
   "codemirror_mode": {
    "name": "ipython",
    "version": 2
   },
   "file_extension": ".py",
   "mimetype": "text/x-python",
   "name": "python",
   "nbconvert_exporter": "python",
   "pygments_lexer": "ipython2",
   "version": "2.7.12"
  }
 },
 "nbformat": 4,
 "nbformat_minor": 2
}
